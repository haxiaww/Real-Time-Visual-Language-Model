{
 "cells": [
  {
   "cell_type": "code",
   "execution_count": null,
   "id": "f7fbdb2f",
   "metadata": {
    "vscode": {
     "languageId": "plaintext"
    }
   },
   "outputs": [],
   "source": [
    "!pip install  -U -q git+https://github.com/huggingface/transformers.git git+https://github.com/huggingface/trl.git datasets bitsandbytes peft qwen-vl-utils wandb accelerate\n",
    "# Tested with transformers==4.47.0.dev0, trl==0.12.0.dev0, datasets==3.0.2, bitsandbytes==0.44.1, peft==0.13.2, qwen-vl-utils==0.0.8, wandb==0.18.5, accelerate==1.0.1"
   ]
  },
  {
   "cell_type": "code",
   "execution_count": null,
   "id": "dbb06501",
   "metadata": {
    "vscode": {
     "languageId": "plaintext"
    }
   },
   "outputs": [],
   "source": [
    "!pip install -q torch==2.4.1+cu121 torchvision==0.19.1+cu121 torchaudio==2.4.1+cu121 --extra-index-url https://download.pytorch.org/whl/cu121"
   ]
  },
  {
   "cell_type": "code",
   "execution_count": null,
   "id": "06fd444d",
   "metadata": {
    "vscode": {
     "languageId": "plaintext"
    }
   },
   "outputs": [],
   "source": [
    "from huggingface_hub import notebook_login\n",
    "\n",
    "notebook_login()"
   ]
  },
  {
   "cell_type": "code",
   "execution_count": null,
   "id": "098c10ee",
   "metadata": {
    "vscode": {
     "languageId": "plaintext"
    }
   },
   "outputs": [],
   "source": [
    "so i have minio bucket ekyc2 inside are 164_test, 165, inside each are phone num folders and inside were a bunch of images to ocr, minus the jpeg files that start with CHUKY and HAKH, i want you to push them into ocr api at http://10.11.34.11:8088/api/ocr with headers = {'Content-Type':'application/json', 'Id': 'admin'}, it is by POST the {\"url\":\"http://10.11.34.11:9000/ekyc2/minio_path}. once you have requested each files, you wanna extract the 'data' part from response json into csv. run parallel w 10 cores"
   ]
  },
  {
   "cell_type": "code",
   "execution_count": null,
   "id": "2ab5241f",
   "metadata": {
    "vscode": {
     "languageId": "plaintext"
    }
   },
   "outputs": [],
   "source": [
    "save each folders 164_test, 165... paths into csv files too. with their folder name on it"
   ]
  }
 ],
 "metadata": {
  "language_info": {
   "name": "python"
  }
 },
 "nbformat": 4,
 "nbformat_minor": 5
}
